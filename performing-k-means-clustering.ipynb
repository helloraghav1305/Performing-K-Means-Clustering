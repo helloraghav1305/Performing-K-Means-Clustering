{
 "cells": [
  {
   "cell_type": "code",
   "execution_count": 1,
   "id": "4a421e0e",
   "metadata": {
    "_cell_guid": "b1076dfc-b9ad-4769-8c92-a6c4dae69d19",
    "_uuid": "8f2839f25d086af736a60e9eeb907d3b93b6e0e5",
    "execution": {
     "iopub.execute_input": "2022-03-09T07:00:07.438554Z",
     "iopub.status.busy": "2022-03-09T07:00:07.437269Z",
     "iopub.status.idle": "2022-03-09T07:00:33.132015Z",
     "shell.execute_reply": "2022-03-09T07:00:33.131347Z"
    },
    "papermill": {
     "duration": 25.702488,
     "end_time": "2022-03-09T07:00:33.132190",
     "exception": false,
     "start_time": "2022-03-09T07:00:07.429702",
     "status": "completed"
    },
    "tags": []
   },
   "outputs": [
    {
     "name": "stdout",
     "output_type": "stream",
     "text": [
      "[0 0 0 ... 0 0 0]\n"
     ]
    },
    {
     "data": {
      "image/png": "[encoded data removed]",
      "text/plain": [
       "<Figure size 432x288 with 1 Axes>"
      ]
     },
     "metadata": {
      "needs_background": "light"
     },
     "output_type": "display_data"
    }
   ],
   "source": [
    "# Introduction \n",
    "\n",
    "# In this project, we will consider the 'OnlineRetail' dataset \n",
    "# from kaggle, which consists of features like 'Quantity' and \n",
    "# 'UnitPrice' for a list of transactions.\n",
    "\n",
    "# Our task is find the optimal number of clusters\n",
    "# for the given data, and to predict which cluster \n",
    "# does each of those transaction belong to.\n",
    "\n",
    "# Importing the Libraries\n",
    "\n",
    "import numpy as np\n",
    "import matplotlib.pyplot as plt\n",
    "import pandas as pd\n",
    "\n",
    "# Importing the Dataset\n",
    "\n",
    "# 'unicode_escape' was added to avoid the Unicode Decode Error\n",
    "\n",
    "df = pd.read_csv('../input/online-retail-customer-clustering/OnlineRetail.csv', encoding = 'unicode_escape')\n",
    "df.head()\n",
    "\n",
    "# From the above dataset, we will only be considering the features\n",
    "# 'Quantity' and 'UnitPrice' for the array X\n",
    "\n",
    "X = df.iloc[:, [3, 5]].values\n",
    "\n",
    "# Using the Elbow Method to find the Optimal Number of Clusters\n",
    "\n",
    "from sklearn.cluster import KMeans\n",
    "wcss = []\n",
    "\n",
    "# We consider a range of no's from 1 to 7\n",
    "# which also denotes the number of clusters\n",
    "\n",
    "for i in range(1, 8):\n",
    "  kmeans = KMeans(n_clusters = i, init = 'k-means++', random_state = 42)\n",
    "  # Fitting k-means to array X  \n",
    "  kmeans.fit(X)\n",
    "  wcss.append(kmeans.inertia_)\n",
    "    \n",
    "plt.plot(range(1, 8), wcss)\n",
    "plt.title('The Elbow Method')\n",
    "plt.xlabel('Number of Clusters')\n",
    "plt.ylabel('WCSS')\n",
    "plt.show\n",
    "\n",
    "# From the above plot, we observe, while the x axis value goes from 1 to 3\n",
    "# the WCSS decreases rapidly, and while the x axis value goes from 3 to 7,\n",
    "# the WCSS decreases slowly.\n",
    "\n",
    "# This tells us that the optimal number\n",
    "# of clusters is 3.\n",
    "\n",
    "# Training the k-means model to the array X, \n",
    "# then predicting what cluster does each transaction belong to.\n",
    "\n",
    "kmeans = KMeans(n_clusters = 3, init = 'k-means++', random_state = 42)\n",
    "y_kmeans = kmeans.fit_predict(X)\n",
    "\n",
    "print(y_kmeans)\n",
    "\n",
    "# Since we considered two features 'Quantity' and 'UnitPrice',\n",
    "# it is possible for us to visualize the clusters \n",
    "# using a 2d plot / scatterplot.\n",
    "\n",
    "plt.scatter(X[y_kmeans == 0, 0], X[y_kmeans == 0, 1], s = 100, c = 'red', label = 'Cluster 1')\n",
    "plt.scatter(X[y_kmeans == 1, 0], X[y_kmeans == 1, 1], s = 100, c = 'blue', label = 'Cluster 2')\n",
    "plt.scatter(X[y_kmeans == 2, 0], X[y_kmeans == 2, 1], s = 100, c = 'green', label = 'Cluster 3')\n",
    "plt.scatter(kmeans.cluster_centers_[:, 0], kmeans.cluster_centers_[:, 1], s = 70, c = 'yellow', label = 'Centroids')\n",
    "plt.title('Clusters of Transactions')\n",
    "plt.xlabel('Quantity')\n",
    "plt.ylabel('Unit Price')\n",
    "plt.legend()\n",
    "plt.show()"
   ]
  }
 ],
 "metadata": {
  "kernelspec": {
   "display_name": "Python 3",
   "language": "python",
   "name": "python3"
  },
  "language_info": {
   "codemirror_mode": {
    "name": "ipython",
    "version": 3
   },
   "file_extension": ".py",
   "mimetype": "text/x-python",
   "name": "python",
   "nbconvert_exporter": "python",
   "pygments_lexer": "ipython3",
   "version": "3.7.12"
  },
  "papermill": {
   "default_parameters": {},
   "duration": 36.803239,
   "end_time": "2022-03-09T07:00:33.949223",
   "environment_variables": {},
   "exception": null,
   "input_path": "__notebook__.ipynb",
   "output_path": "__notebook__.ipynb",
   "parameters": {},
   "start_time": "2022-03-09T06:59:57.145984",
   "version": "2.3.3"
  }
 },
 "nbformat": 4,
 "nbformat_minor": 5
}
